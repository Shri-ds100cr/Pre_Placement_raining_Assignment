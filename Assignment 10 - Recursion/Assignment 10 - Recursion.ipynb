{
 "cells": [
  {
   "cell_type": "markdown",
   "id": "49ff6088",
   "metadata": {},
   "source": [
    "1. Given an integer `n`, return *`true` if it is a power of three. Otherwise, return `false`*.\n",
    "\n",
    "An integer `n` is a power of three, if there exists an integer `x` such that `n == 3x`.\n",
    "\n",
    "Example 1.\n",
    "\n",
    "Input: n = 27\n",
    "Output: true\n",
    "Explanation: 27 = 33\n",
    "\n",
    "**Example 2:**\n",
    "\n",
    "```\n",
    "Input: n = 0\n",
    "Output: false\n",
    "Explanation: There is no x where 3x = 0.\n",
    "\n",
    "```\n",
    "\n",
    "**Example 3:**\n",
    "\n",
    "---\n",
    "Input: n = -1\n",
    "\n",
    "Output: false\n",
    "\n",
    "Explanation: There is no x where 3x = (-1)\n"
   ]
  },
  {
   "cell_type": "code",
   "execution_count": 8,
   "id": "02bdb47b",
   "metadata": {},
   "outputs": [],
   "source": [
    "def ispower3(num):\n",
    "    if num==1:\n",
    "        return True\n",
    "    elif num<=0 or num%3!=0:\n",
    "        return False\n",
    "    else:\n",
    "        return ispower3(num/3)"
   ]
  },
  {
   "cell_type": "code",
   "execution_count": 9,
   "id": "c809485a",
   "metadata": {},
   "outputs": [
    {
     "data": {
      "text/plain": [
       "True"
      ]
     },
     "execution_count": 9,
     "metadata": {},
     "output_type": "execute_result"
    }
   ],
   "source": [
    "ispower3(27)"
   ]
  },
  {
   "cell_type": "code",
   "execution_count": 10,
   "id": "3ed9ab93",
   "metadata": {},
   "outputs": [
    {
     "data": {
      "text/plain": [
       "False"
      ]
     },
     "execution_count": 10,
     "metadata": {},
     "output_type": "execute_result"
    }
   ],
   "source": [
    "ispower3(0)"
   ]
  },
  {
   "cell_type": "code",
   "execution_count": 11,
   "id": "592a0c39",
   "metadata": {},
   "outputs": [
    {
     "data": {
      "text/plain": [
       "False"
      ]
     },
     "execution_count": 11,
     "metadata": {},
     "output_type": "execute_result"
    }
   ],
   "source": [
    "ispower3(-1)"
   ]
  },
  {
   "cell_type": "markdown",
   "id": "22f957ad",
   "metadata": {},
   "source": [
    "**Explaination** The time complexity of the recursive solution to determine if an integer n is a power of three is O(log(n)). This is because in each recursive call, we divide n by 3. The number of recursive calls required is proportional to the logarithm of n to the base 3. Hence, the time complexity is logarithmic.\n",
    "\n",
    "The space complexity of the recursive solution is O(log(n)). This is because the space required by the call stack is proportional to the number of recursive calls made. Since the number of recursive calls is logarithmic in n, the space complexity is also logarithmic"
   ]
  },
  {
   "cell_type": "code",
   "execution_count": null,
   "id": "e59d37ec",
   "metadata": {},
   "outputs": [],
   "source": []
  },
  {
   "cell_type": "markdown",
   "id": "5a258d0e",
   "metadata": {},
   "source": [
    " **Question 2**\n",
    "\n",
    "You have a list `arr` of all integers in the range `[1, n]` sorted in a strictly increasing order. Apply the following algorithm on `arr`:\n",
    "\n",
    "- Starting from left to right, remove the first number and every other number afterward until you reach the end of the list.\n",
    "- Repeat the previous step again, but this time from right to left, remove the rightmost number and every other number from the remaining numbers.\n",
    "- Keep repeating the steps again, alternating left to right and right to left, until a single number remains.\n",
    "\n",
    "Given the integer `n`, return *the last number that remains in* `arr`.\n",
    "\n",
    "**Example 1:**\n",
    "\n",
    "```\n",
    "Input: n = 9\n",
    "Output: 6\n",
    "Explanation:\n",
    "arr = [1, 2,3, 4,5, 6,7, 8,9]\n",
    "arr = [2,4, 6,8]\n",
    "arr = [2, 6]\n",
    "arr = [6]\n",
    "\n",
    "```\n",
    "\n",
    "**Example 2:**\n",
    "\n",
    "Input: n = 1\n",
    "\n",
    "Output: 1\n"
   ]
  },
  {
   "cell_type": "code",
   "execution_count": 14,
   "id": "dd3897d9",
   "metadata": {},
   "outputs": [],
   "source": [
    "def lastRemaining(n):\n",
    "    head = 1\n",
    "    step = 1\n",
    "    left_to_right = True\n",
    "\n",
    "    while n > 1:\n",
    "        if left_to_right or n % 2 == 1:\n",
    "            head += step\n",
    "        step *= 2\n",
    "        n //= 2\n",
    "        left_to_right = not left_to_right\n",
    "\n",
    "    return head\n",
    "\n"
   ]
  },
  {
   "cell_type": "code",
   "execution_count": 15,
   "id": "c235ef8f",
   "metadata": {},
   "outputs": [
    {
     "name": "stdout",
     "output_type": "stream",
     "text": [
      "6\n"
     ]
    }
   ],
   "source": [
    "# Example usage\n",
    "n = 9\n",
    "result = lastRemaining(n)\n",
    "print(result)  # Output: 6"
   ]
  },
  {
   "cell_type": "code",
   "execution_count": 16,
   "id": "c4b00550",
   "metadata": {},
   "outputs": [
    {
     "name": "stdout",
     "output_type": "stream",
     "text": [
      "1\n"
     ]
    }
   ],
   "source": [
    "# Example usage\n",
    "n = 1\n",
    "result = lastRemaining(n)\n",
    "print(result)  # Output: 6"
   ]
  },
  {
   "cell_type": "markdown",
   "id": "47df76d2",
   "metadata": {},
   "source": [
    "Question 3**\n",
    "\n",
    "Given a set represented as a string, write a recursive code to print all subsets of it. The subsets can be printed in any order.\n",
    "\n",
    "Example 1:\n",
    "\n",
    "Input :  set = “abc”\n",
    "\n",
    "Output : { “”, “a”, “b”, “c”, “ab”, “ac”, “bc”, “abc”}\n",
    "\n",
    "Example 2:\n",
    "\n",
    "Input : set = “abcd”\n",
    "\n",
    "Output : { “”, “a” ,”ab” ,”abc” ,”abcd”, “abd” ,”ac” ,”acd”, “ad” ,”b”, “bc” ,”bcd” ,”bd” ,”c” ,”cd” ,”d” }"
   ]
  },
  {
   "cell_type": "code",
   "execution_count": 20,
   "id": "4facb679",
   "metadata": {},
   "outputs": [
    {
     "name": "stdout",
     "output_type": "stream",
     "text": [
      "abcd\n",
      "abc\n",
      "abd\n",
      "ab\n",
      "acd\n",
      "ac\n",
      "ad\n",
      "a\n",
      "bcd\n",
      "bc\n",
      "bd\n",
      "b\n",
      "cd\n",
      "c\n",
      "d\n",
      "\n"
     ]
    }
   ],
   "source": [
    "def printSubsets(s, subset=\"\"):\n",
    "    if len(s) == 0:\n",
    "        print(subset)  # Print the subset\n",
    "        return\n",
    "\n",
    "    printSubsets(s[1:], subset + s[0])  # Include the current character\n",
    "    printSubsets(s[1:], subset)  # Exclude the current character\n",
    "\n",
    "# Example usage\n",
    "s = \"abcd\"\n",
    "printSubsets(s)\n"
   ]
  },
  {
   "cell_type": "markdown",
   "id": "aad77741",
   "metadata": {},
   "source": [
    "\n",
    "💡 **Question 4**\n",
    "\n",
    "Given a string calculate length of the string using recursion.\n",
    "\n",
    "**Examples:**\n",
    "\n",
    "Input : str = \"abcd\"\n",
    "Output :4\n",
    "\n",
    "Input : str = \"GEEKSFORGEEKS\"\n",
    "Output :13"
   ]
  },
  {
   "cell_type": "code",
   "execution_count": 22,
   "id": "0b52de3e",
   "metadata": {},
   "outputs": [],
   "source": [
    "def calculate_length(s):\n",
    "    if s == \"abcd\":\n",
    "        return 0\n",
    "    else:\n",
    "        return 1 + calculate_length(s[:-1])"
   ]
  },
  {
   "cell_type": "code",
   "execution_count": 23,
   "id": "a4d33300",
   "metadata": {},
   "outputs": [],
   "source": [
    "def stringLength(s):\n",
    "    if s == \"\":\n",
    "        return 0\n",
    "    else:\n",
    "        return 1 + stringLength(s[1:])\n",
    "\n",
    "# # Example usage\n",
    "# str1 = \"abcd\"\n",
    "# length1 = stringLength(str1)\n",
    "# print(length1)  # Output: 4\n",
    "\n",
    "# str2 = \"GEEKSFORGEEKS\"\n",
    "# length2 = stringLength(str2)\n",
    "# print(length2)  # Output: 13\n"
   ]
  },
  {
   "cell_type": "code",
   "execution_count": 24,
   "id": "45c89cb9",
   "metadata": {},
   "outputs": [
    {
     "data": {
      "text/plain": [
       "4"
      ]
     },
     "execution_count": 24,
     "metadata": {},
     "output_type": "execute_result"
    }
   ],
   "source": [
    "stringLength(\"acbd\")"
   ]
  },
  {
   "cell_type": "code",
   "execution_count": 25,
   "id": "f23cd940",
   "metadata": {},
   "outputs": [
    {
     "data": {
      "text/plain": [
       "13"
      ]
     },
     "execution_count": 25,
     "metadata": {},
     "output_type": "execute_result"
    }
   ],
   "source": [
    "stringLength(\"GEEKSFORGEEKS\")"
   ]
  },
  {
   "cell_type": "markdown",
   "id": "2d62e2b8",
   "metadata": {},
   "source": [
    "💡 **Question 5**\n",
    "We are given a string S, we need to find count of all contiguous substrings starting and ending with same character.\n",
    "\n",
    "Input  : S = \"abcab\"\n",
    "\n",
    "Output : 7\n",
    "\n",
    "There are 15 substrings of \"abcab\"\n",
    "\n",
    "a, ab, abc, abca, abcab, b, bc, bca\n",
    "\n",
    "bcab, c, ca, cab, a, ab, b\n",
    "\n",
    "Out of the above substrings, there\n",
    "\n",
    "are 7 substrings : a, abca, b, bcab,\n",
    "\n",
    "c, a and b.\n",
    "\n",
    "Input  : S = \"aba\"\n",
    "\n",
    "Output : 4\n",
    "\n",
    "The substrings are a, b, a and aba"
   ]
  },
  {
   "cell_type": "code",
   "execution_count": 26,
   "id": "ba4eb278",
   "metadata": {},
   "outputs": [],
   "source": [
    "def count_contiguous_substrings(s):\n",
    "    count = 0\n",
    "    n = len(s)\n",
    "\n",
    "    for i in range(n):\n",
    "        for j in range(i, n):\n",
    "            if s[i] == s[j]:\n",
    "                count += 1\n",
    "\n",
    "    return count"
   ]
  },
  {
   "cell_type": "code",
   "execution_count": 27,
   "id": "69650372",
   "metadata": {},
   "outputs": [
    {
     "name": "stdout",
     "output_type": "stream",
     "text": [
      "3\n"
     ]
    }
   ],
   "source": [
    "print(count_contiguous_substrings(\"abc\"))"
   ]
  },
  {
   "cell_type": "code",
   "execution_count": 29,
   "id": "c725a495",
   "metadata": {},
   "outputs": [
    {
     "name": "stdout",
     "output_type": "stream",
     "text": [
      "4\n"
     ]
    }
   ],
   "source": [
    "print(count_contiguous_substrings(\"aba\"))"
   ]
  },
  {
   "cell_type": "markdown",
   "id": "c8bb017b",
   "metadata": {},
   "source": [
    "<aside>\n",
    "💡 **Question 6**\n",
    "\n",
    "The [tower of Hanoi](https://en.wikipedia.org/wiki/Tower_of_Hanoi) is a famous puzzle where we have three rods and **N** disks. The objective of the puzzle is to move the entire stack to another rod. You are given the number of discs **N**. Initially, these discs are in the rod 1. You need to print all the steps of discs movement so that all the discs reach the 3rd rod. Also, you need to find the total moves.**Note:** The discs are arranged such that the **top disc is numbered 1** and the **bottom-most disc is numbered N**. Also, all the discs have **different sizes** and a bigger disc **cannot** be put on the top of a smaller disc. Refer the provided link to get a better clarity about the puzzle.\n",
    "    \n",
    "Example 1\n",
    "Input:\n",
    "    \n",
    "N = 2\n",
    "    \n",
    "Output:\n",
    "    \n",
    "move disk 1 from rod 1 to rod 2\n",
    "    \n",
    "move disk 2 from rod 1 to rod 3\n",
    "    \n",
    "move disk 1 from rod 2 to rod 3\n",
    "3\n",
    "    \n",
    "Explanation:For N=2 , steps will be\n",
    "as follows in the example and total\n",
    "3 steps will be taken.\n",
    "\n",
    "</aside>"
   ]
  },
  {
   "cell_type": "code",
   "execution_count": 30,
   "id": "f3ae871f",
   "metadata": {},
   "outputs": [],
   "source": [
    "def tower_of_hanoi(n, source, destination, auxiliary):\n",
    "    if n == 1:\n",
    "        print(f\"Move disk 1 from rod {source} to rod {destination}\")\n",
    "        return 1\n",
    "\n",
    "    count = 0\n",
    "\n",
    "    count += tower_of_hanoi(n - 1, source, auxiliary, destination)\n",
    "    print(f\"Move disk {n} from rod {source} to rod {destination}\")\n",
    "    count += 1\n",
    "    count += tower_of_hanoi(n - 1, auxiliary, destination, source)\n",
    "\n",
    "    return count"
   ]
  },
  {
   "cell_type": "code",
   "execution_count": 31,
   "id": "6a738d00",
   "metadata": {},
   "outputs": [
    {
     "name": "stdout",
     "output_type": "stream",
     "text": [
      "Move disk 1 from rod 1 to rod 3\n",
      "Move disk 2 from rod 1 to rod 2\n",
      "Move disk 1 from rod 3 to rod 2\n",
      "Move disk 3 from rod 1 to rod 3\n",
      "Move disk 1 from rod 2 to rod 1\n",
      "Move disk 2 from rod 2 to rod 3\n",
      "Move disk 1 from rod 1 to rod 3\n",
      "Total moves: 7\n"
     ]
    }
   ],
   "source": [
    "n = 3\n",
    "source = 1\n",
    "destination = 3\n",
    "auxiliary = 2\n",
    "\n",
    "total_moves = tower_of_hanoi(n, source, destination, auxiliary)\n",
    "print(f\"Total moves: {total_moves}\")"
   ]
  },
  {
   "cell_type": "markdown",
   "id": "3affbce8",
   "metadata": {},
   "source": [
    "💡 **Question 7**\n",
    "Given a string str, the task is to print all the permutations of str. A permutation is an arrangement of all or part of a set of objects, with regard to the order of the arrangement. For instance, the words ‘bat’ and ‘tab’ represents two distinct permutation (or arrangements) of a similar three letter word.\n",
    "\n",
    "Examples:\n",
    "\n",
    "Input: str = “cd”\n",
    "\n",
    "Output: cd dc\n",
    "\n",
    "Input: str = “abb”\n",
    "\n",
    "Output: abb abb bab bba bab bba"
   ]
  },
  {
   "cell_type": "code",
   "execution_count": 35,
   "id": "6793c74f",
   "metadata": {},
   "outputs": [],
   "source": [
    "def print_permutations(s, left, right):\n",
    "    if left == right:\n",
    "        print(''.join(s))\n",
    "    else:\n",
    "        for i in range(left, right + 1):\n",
    "            s[left], s[i] = s[i], s[left]  # Swap characters\n",
    "            print_permutations(s, left + 1, right)\n",
    "            s[left], s[i] = s[i], s[left]  # Revert the swap\n",
    "\n",
    "def permutations(str):\n",
    "    n = len(str)\n",
    "    s = list(str)\n",
    "    print_permutations(s, 0, n - 1)"
   ]
  },
  {
   "cell_type": "code",
   "execution_count": 36,
   "id": "029668dc",
   "metadata": {},
   "outputs": [
    {
     "name": "stdout",
     "output_type": "stream",
     "text": [
      "cd\n",
      "dc\n",
      "\n"
     ]
    }
   ],
   "source": [
    "permutations(\"cd\")\n",
    "print()"
   ]
  },
  {
   "cell_type": "markdown",
   "id": "1ffd9442",
   "metadata": {},
   "source": [
    "💡 **Question 8**\n",
    "Given a string, count total number of consonants in it. A consonant is an English alphabet character that is not vowel (a, e, i, o and u). \n",
    "\n",
    "Examples \n",
    "\n",
    "Input : abc de\n",
    "\n",
    "Output : 3\n",
    "\n",
    "There are three consonants b, c and d.\n",
    "\n",
    "Input : geeksforgeeks portal\n",
    "Output : 12\n"
   ]
  },
  {
   "cell_type": "code",
   "execution_count": 38,
   "id": "c1f0df18",
   "metadata": {},
   "outputs": [],
   "source": [
    "def count_consonants(s):\n",
    "    consonants = 'bcdfghjklmnpqrstvwxyzBCDFGHJKLMNPQRSTVWXYZ'\n",
    "    count = 0\n",
    "\n",
    "    for char in s:\n",
    "        if char in consonants:\n",
    "            count += 1\n",
    "\n",
    "    return count"
   ]
  },
  {
   "cell_type": "code",
   "execution_count": 39,
   "id": "f8e457f5",
   "metadata": {},
   "outputs": [
    {
     "name": "stdout",
     "output_type": "stream",
     "text": [
      "3\n"
     ]
    }
   ],
   "source": [
    "print(count_consonants(\"Hello\"))"
   ]
  },
  {
   "cell_type": "code",
   "execution_count": null,
   "id": "97492baa",
   "metadata": {},
   "outputs": [],
   "source": []
  }
 ],
 "metadata": {
  "kernelspec": {
   "display_name": "Python 3 (ipykernel)",
   "language": "python",
   "name": "python3"
  },
  "language_info": {
   "codemirror_mode": {
    "name": "ipython",
    "version": 3
   },
   "file_extension": ".py",
   "mimetype": "text/x-python",
   "name": "python",
   "nbconvert_exporter": "python",
   "pygments_lexer": "ipython3",
   "version": "3.9.7"
  }
 },
 "nbformat": 4,
 "nbformat_minor": 5
}
