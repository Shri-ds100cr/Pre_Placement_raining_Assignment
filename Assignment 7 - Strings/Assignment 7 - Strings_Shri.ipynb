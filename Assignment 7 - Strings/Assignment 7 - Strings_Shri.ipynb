{
 "cells": [
  {
   "cell_type": "markdown",
   "id": "41603786",
   "metadata": {},
   "source": [
    "Q1. Given two strings s and t, determine if they are isomorphic.\n",
    "\n",
    "Two strings s and t are isomorphic if the characters in s can be replaced to get t.\n",
    "\n",
    "All occurrences of a character must be replaced with another character while preserving the order of characters. No two characters may map to the same character, but a character may map to itself.\n",
    "\n",
    "Example 1:\n",
    "\n",
    "Input: s = \"egg\", t = \"add\"\n",
    "\n",
    "Output: true"
   ]
  },
  {
   "cell_type": "code",
   "execution_count": 1,
   "id": "4ed993db",
   "metadata": {},
   "outputs": [],
   "source": [
    "def is_isomorphic(s, t):\n",
    "    if len(s) != len(t):\n",
    "        return False\n",
    "    \n",
    "    s_to_t = {}\n",
    "    t_to_s = {}\n",
    "    \n",
    "    for c1, c2 in zip(s, t):\n",
    "        if c1 not in s_to_t and c2 not in t_to_s:\n",
    "            s_to_t[c1] = c2\n",
    "            t_to_s[c2] = c1\n",
    "        elif c1 in s_to_t and c2 in t_to_s:\n",
    "            if s_to_t[c1] != c2 or t_to_s[c2] != c1:\n",
    "                return False\n",
    "        else:\n",
    "            return False\n",
    "    \n",
    "    return True"
   ]
  },
  {
   "cell_type": "code",
   "execution_count": 2,
   "id": "8b6e7251",
   "metadata": {},
   "outputs": [
    {
     "name": "stdout",
     "output_type": "stream",
     "text": [
      "True\n"
     ]
    }
   ],
   "source": [
    "s = \"egg\"\n",
    "t = \"add\"\n",
    "print(is_isomorphic(s, t))"
   ]
  },
  {
   "cell_type": "markdown",
   "id": "4e7bd121",
   "metadata": {},
   "source": [
    "Q2. Given a string num which represents an integer, return true if num is a strobogrammatic number**.\n",
    "\n",
    "A strobogrammatic number is a number that looks the same when rotated 180 degrees (looked at upside down).\n",
    "\n",
    "Example 1:\n",
    "\n",
    "Input: num = \"69\"\n",
    "\n",
    "Output:\n",
    "\n",
    "true"
   ]
  },
  {
   "cell_type": "code",
   "execution_count": 4,
   "id": "f358e0eb",
   "metadata": {},
   "outputs": [],
   "source": [
    "def is_strobogrammatic(num):\n",
    "    pairs = {'0': '0', '1': '1', '6': '9', '8': '8', '9': '6'}\n",
    "    left, right = 0, len(num) - 1\n",
    "    \n",
    "    while left <= right:\n",
    "        if num[left] not in pairs or num[right] not in pairs or pairs[num[left]] != num[right]:\n",
    "            return False\n",
    "        left += 1\n",
    "        right -= 1\n",
    "    \n",
    "    return True"
   ]
  },
  {
   "cell_type": "code",
   "execution_count": 5,
   "id": "1eaec0fb",
   "metadata": {},
   "outputs": [
    {
     "name": "stdout",
     "output_type": "stream",
     "text": [
      "True\n"
     ]
    }
   ],
   "source": [
    "num = \"69\"\n",
    "print(is_strobogrammatic(num))"
   ]
  },
  {
   "cell_type": "markdown",
   "id": "8701895a",
   "metadata": {},
   "source": [
    "Q3. Given two non-negative integers, num1 and num2 represented as string, return the sum of num1 and num2 as a string.\n",
    "\n",
    "You must solve the problem without using any built-in library for handling large integers (such as BigInteger). You must also not convert the inputs to integers directly.\n",
    "\n",
    "Example 1:\n",
    "\n",
    "Input: num1 = \"11\", num2 = \"123\"\n",
    "\n",
    "Output:\n",
    "\n",
    "\"134\""
   ]
  },
  {
   "cell_type": "code",
   "execution_count": 6,
   "id": "115cc65b",
   "metadata": {},
   "outputs": [
    {
     "name": "stdout",
     "output_type": "stream",
     "text": [
      "134\n"
     ]
    }
   ],
   "source": [
    "def add_strings(num1, num2):\n",
    "    result = \"\"\n",
    "    i = len(num1) - 1\n",
    "    j = len(num2) - 1\n",
    "    carry = 0\n",
    "    \n",
    "    while i >= 0 or j >= 0 or carry != 0:\n",
    "        if i >= 0:\n",
    "            carry += int(num1[i])\n",
    "            i -= 1\n",
    "        if j >= 0:\n",
    "            carry += int(num2[j])\n",
    "            j -= 1\n",
    "        result = str(carry % 10) + result\n",
    "        carry //= 10\n",
    "    \n",
    "    return result\n",
    "num1 = \"11\"\n",
    "num2 = \"123\"\n",
    "print(add_strings(num1, num2))"
   ]
  },
  {
   "cell_type": "markdown",
   "id": "460064f1",
   "metadata": {},
   "source": [
    "Q4. Given a string s, reverse the order of characters in each word within a sentence while still preserving whitespace and initial word order.\n",
    "\n",
    "Example 1:\n",
    "\n",
    "Input: s = \"Let's take LeetCode contest\"\n",
    "\n",
    "Output: \"s'teL ekat edoCteeL tsetnoc\""
   ]
  },
  {
   "cell_type": "code",
   "execution_count": 7,
   "id": "87c1e7e6",
   "metadata": {},
   "outputs": [
    {
     "name": "stdout",
     "output_type": "stream",
     "text": [
      "s'teL ekat edoCteeL tsetnoc\n"
     ]
    }
   ],
   "source": [
    "def reverse_words(s):\n",
    "    words = s.split()\n",
    "    reversed_words = [word[::-1] for word in words]\n",
    "    return ' '.join(reversed_words)\n",
    "s = \"Let's take LeetCode contest\"\n",
    "print(reverse_words(s))"
   ]
  },
  {
   "cell_type": "markdown",
   "id": "84566d93",
   "metadata": {},
   "source": [
    "Q5. Given a string s and an integer k, reverse the first k characters for every 2k characters counting from the start of the string.\n",
    "\n",
    "If there are fewer than k characters left, reverse all of them. If there are less than 2k but greater than or equal to k characters, then reverse the first k characters and leave the other as original.\n",
    "\n",
    "Example 1:\n",
    "\n",
    "Input: s = \"abcdefg\", k = 2\n",
    "\n",
    "Output:\n",
    "\n",
    "\"bacdfeg\""
   ]
  },
  {
   "cell_type": "code",
   "execution_count": 8,
   "id": "12fbe2f5",
   "metadata": {},
   "outputs": [
    {
     "name": "stdout",
     "output_type": "stream",
     "text": [
      "bacdfeg\n"
     ]
    }
   ],
   "source": [
    "def reverse_str(s, k):\n",
    "    s = list(s)\n",
    "    for i in range(0, len(s), 2*k):\n",
    "        s[i:i+k] = reversed(s[i:i+k])\n",
    "    return ''.join(s)\n",
    "s = \"abcdefg\"\n",
    "k = 2\n",
    "print(reverse_str(s, k))"
   ]
  },
  {
   "cell_type": "markdown",
   "id": "cc5b7ccf",
   "metadata": {},
   "source": [
    "Q6. Given two strings s and goal, return true if and only if s can become goal after some number of shifts* on* s.\n",
    "\n",
    "A shift on s consists of moving the leftmost character of s to the rightmost position.\n",
    "\n",
    "For example, if s = \"abcde\", then it will be \"bcdea\" after one shift.\n",
    "Example 1:\n",
    "\n",
    "Input: s = \"abcde\", goal = \"cdeab\"\n",
    "\n",
    "Output:\n",
    "\n",
    "true"
   ]
  },
  {
   "cell_type": "code",
   "execution_count": 9,
   "id": "f475c39d",
   "metadata": {},
   "outputs": [
    {
     "name": "stdout",
     "output_type": "stream",
     "text": [
      "True\n"
     ]
    }
   ],
   "source": [
    "def can_shift(s, goal):\n",
    "    if len(s) != len(goal):\n",
    "        return False\n",
    "    \n",
    "    concat = s + s\n",
    "    return goal in concat\n",
    "s = \"abcde\"\n",
    "goal = \"cdeab\"\n",
    "print(can_shift(s, goal))"
   ]
  },
  {
   "cell_type": "markdown",
   "id": "e971a069",
   "metadata": {},
   "source": [
    "Q7. Given two strings s and t, return true if they are equal when both are typed into empty text editors. '#' means a backspace character.\n",
    "\n",
    "Note that after backspacing an empty text, the text will continue empty.\n",
    "\n",
    "Example 1:\n",
    "\n",
    "Input: s = \"ab#c\", t = \"ad#c\"\n",
    "\n",
    "Output: true\n",
    "\n",
    "Explanation:\n",
    "\n",
    "Both s and t become \"ac\"."
   ]
  },
  {
   "cell_type": "code",
   "execution_count": 10,
   "id": "dd7535ae",
   "metadata": {},
   "outputs": [
    {
     "name": "stdout",
     "output_type": "stream",
     "text": [
      "True\n"
     ]
    }
   ],
   "source": [
    "def process_string(string):\n",
    "    processed = []\n",
    "    for char in string:\n",
    "        if char != '#':\n",
    "            processed.append(char)\n",
    "        elif processed:\n",
    "            processed.pop()\n",
    "    return ''.join(processed)\n",
    "\n",
    "def backspace_compare(s, t):\n",
    "    processed_s = process_string(s)\n",
    "    processed_t = process_string(t)\n",
    "    return processed_s == processed_t\n",
    "s = \"ab#c\"\n",
    "t = \"ad#c\"\n",
    "print(backspace_compare(s, t))"
   ]
  },
  {
   "cell_type": "markdown",
   "id": "e919c1a4",
   "metadata": {},
   "source": [
    "Q8. You are given an array coordinates, coordinates[i] = [x, y], where [x, y] represents the coordinate of a point. Check if these points make a straight line in the XY plane.\n",
    "\n",
    "Example 1:\n",
    "\n",
    "Screenshot_2023-05-29_010117.png\n",
    "\n",
    "Input: coordinates = [[1,2],[2,3],[3,4],[4,5],[5,6],[6,7]]\n",
    "\n",
    "Output: true\n",
    "\n"
   ]
  },
  {
   "cell_type": "code",
   "execution_count": null,
   "id": "c0b30bf2",
   "metadata": {},
   "outputs": [],
   "source": []
  }
 ],
 "metadata": {
  "kernelspec": {
   "display_name": "Python 3 (ipykernel)",
   "language": "python",
   "name": "python3"
  },
  "language_info": {
   "codemirror_mode": {
    "name": "ipython",
    "version": 3
   },
   "file_extension": ".py",
   "mimetype": "text/x-python",
   "name": "python",
   "nbconvert_exporter": "python",
   "pygments_lexer": "ipython3",
   "version": "3.9.7"
  }
 },
 "nbformat": 4,
 "nbformat_minor": 5
}
