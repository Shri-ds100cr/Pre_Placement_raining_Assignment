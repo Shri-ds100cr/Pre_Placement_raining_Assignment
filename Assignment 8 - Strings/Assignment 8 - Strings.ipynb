{
 "cells": [
  {
   "cell_type": "markdown",
   "id": "40cd61df",
   "metadata": {},
   "source": [
    "**Question 1 Given two strings s1 and s2, return the lowest ASCII* sum of deleted characters to make two strings equal*.\n",
    "\n",
    "Example 1:\n",
    "\n",
    "Input: s1 = \"sea\", s2 = \"eat\"\n",
    "\n",
    "Output: 231\n",
    "\n",
    "Explanation: Deleting \"s\" from \"sea\" adds the ASCII value of \"s\" (115) to the sum.\n",
    "\n",
    "Deleting \"t\" from \"eat\" adds 116 to the sum.\n",
    "\n",
    "At the end, both strings are equal, and 115 + 116 = 231 is the minimum sum possible to achieve this."
   ]
  },
  {
   "cell_type": "code",
   "execution_count": 1,
   "id": "a930ccc2",
   "metadata": {},
   "outputs": [
    {
     "name": "stdout",
     "output_type": "stream",
     "text": [
      "231\n"
     ]
    }
   ],
   "source": [
    "def minimumDeleteSum(s1, s2):\n",
    "    m, n = len(s1), len(s2)\n",
    "    dp = [[0] * (n + 1) for _ in range(m + 1)]\n",
    "\n",
    "    for i in range(1, m + 1):\n",
    "        dp[i][0] = dp[i - 1][0] + ord(s1[i - 1])\n",
    "\n",
    "    for j in range(1, n + 1):\n",
    "        dp[0][j] = dp[0][j - 1] + ord(s2[j - 1])\n",
    "\n",
    "    for i in range(1, m + 1):\n",
    "        for j in range(1, n + 1):\n",
    "            if s1[i - 1] == s2[j - 1]:\n",
    "                dp[i][j] = dp[i - 1][j - 1]\n",
    "            else:\n",
    "                dp[i][j] = min(dp[i - 1][j] + ord(s1[i - 1]), dp[i][j - 1] + ord(s2[j - 1]))\n",
    "\n",
    "    return dp[m][n]\n",
    "s1 = \"sea\"\n",
    "s2 = \"eat\"\n",
    "result = minimumDeleteSum(s1, s2)\n",
    "print(result)  # Output: 231"
   ]
  },
  {
   "cell_type": "markdown",
   "id": "19316e04",
   "metadata": {},
   "source": [
    "Question 2 Given a string s containing only three types of characters: '(', ')' and '', return true if* s is valid. The following rules define a valid** string:\n",
    "Any left parenthesis '(' must have a corresponding right parenthesis ')'.\n",
    "Any right parenthesis ')' must have a corresponding left parenthesis '('.\n",
    "Left parenthesis '(' must go before the corresponding right parenthesis ')'.\n",
    "'*' could be treated as a single right parenthesis ')' or a single left parenthesis '(' or an empty string \"\".\n",
    "Example 1:\n",
    "\n",
    "Input: s = \"()\"\n",
    "\n",
    "Output:\n",
    "\n",
    "true"
   ]
  },
  {
   "cell_type": "code",
   "execution_count": 2,
   "id": "604fd4d6",
   "metadata": {},
   "outputs": [
    {
     "name": "stdout",
     "output_type": "stream",
     "text": [
      "True\n"
     ]
    }
   ],
   "source": [
    "def isValid(s):\n",
    "    stack = []\n",
    "    asterisks = []\n",
    "    \n",
    "    for c in s:\n",
    "        if c == '(':\n",
    "            stack.append(c)\n",
    "        elif c == '*':\n",
    "            asterisks.append(len(stack))\n",
    "        elif c == ')':\n",
    "            if stack:\n",
    "                stack.pop()\n",
    "            elif asterisks:\n",
    "                asterisks.pop()\n",
    "            else:\n",
    "                return False\n",
    "\n",
    "    while stack and asterisks:\n",
    "        if stack.pop() > asterisks.pop():\n",
    "            return False\n",
    "\n",
    "    return len(stack) == 0\n",
    "s = \"()\"\n",
    "result = isValid(s)\n",
    "print(result)  # Output: True"
   ]
  },
  {
   "cell_type": "markdown",
   "id": "b3c4493a",
   "metadata": {},
   "source": [
    "Question 3 Given two strings word1 and word2, return the minimum number of steps* required to make* word1 and word2 the same. In one step, you can delete exactly one character in either string.\n",
    "Example 1:\n",
    "\n",
    "Input: word1 = \"sea\", word2 = \"eat\"\n",
    "\n",
    "Output: 2\n",
    "\n",
    "Explanation: You need one step to make \"sea\" to \"ea\" and another step to make \"eat\" to \"ea\"."
   ]
  },
  {
   "cell_type": "code",
   "execution_count": 3,
   "id": "e9211b56",
   "metadata": {},
   "outputs": [],
   "source": [
    "def minSteps(word1, word2):\n",
    "    m, n = len(word1), len(word2)\n",
    "    dp = [[0] * (n + 1) for _ in range(m + 1)]\n",
    "\n",
    "    for i in range(m + 1):\n",
    "        dp[i][0] = i\n",
    "\n",
    "    for j in range(n + 1):\n",
    "        dp[0][j] = j\n",
    "\n",
    "    for i in range(1, m + 1):\n",
    "        for j in range(1, n + 1):\n",
    "            if word1[i - 1] == word2[j - 1]:\n",
    "                dp[i][j] = dp[i - 1][j - 1]\n",
    "            else:\n",
    "                dp[i][j] = min(dp[i - 1][j] + 1, dp[i][j - 1] + 1)\n",
    "\n",
    "    return dp[m][n]"
   ]
  },
  {
   "cell_type": "code",
   "execution_count": 4,
   "id": "fda120a5",
   "metadata": {},
   "outputs": [
    {
     "name": "stdout",
     "output_type": "stream",
     "text": [
      "2\n"
     ]
    }
   ],
   "source": [
    "word1 = \"sea\"\n",
    "word2 = \"eat\"\n",
    "result = minSteps(word1, word2)\n",
    "print(result)  # Output: 2"
   ]
  },
  {
   "cell_type": "markdown",
   "id": "091289f6",
   "metadata": {},
   "source": [
    "**|Question 4** You need to construct a binary tree from a string consisting of parenthesis and integers. The whole input represents a binary tree. It contains an integer followed by zero, one or two pairs of parenthesis. The integer represents the root's value and a pair of parenthesis contains a child binary tree with the same structure.You always start to construct the left child node of the parent first if it exists."
   ]
  },
  {
   "cell_type": "code",
   "execution_count": 8,
   "id": "92bfed9d",
   "metadata": {},
   "outputs": [],
   "source": [
    "class TreeNode:\n",
    "    def __init__(self, val=0, left=None, right=None):\n",
    "        self.val = val\n",
    "        self.left = left\n",
    "        self.right = right\n",
    "\n",
    "\n",
    "def constructTree(s):\n",
    "    if not s:\n",
    "        return None\n",
    "\n",
    "    opening = s.index('(')\n",
    "    value = int(s[:opening])\n",
    "\n",
    "    root = TreeNode(value)\n",
    "\n",
    "    closing = findClosingParenthesis(s, opening)\n",
    "    root.left = constructTree(s[opening + 1:closing])\n",
    "\n",
    "    if closing + 1 < len(s):\n",
    "        root.right = constructTree(s[closing + 2:-1])\n",
    "\n",
    "    return root\n",
    "\n",
    "\n",
    "def findClosingParenthesis(s, opening):\n",
    "    stack = []\n",
    "    for i in range(opening, len(s)):\n",
    "        if s[i] == '(':\n",
    "            stack.append('(')\n",
    "        elif s[i] == ')':\n",
    "            stack.pop()\n",
    "            if not stack:\n",
    "                return i\n",
    "    return -1"
   ]
  },
  {
   "cell_type": "code",
   "execution_count": 9,
   "id": "d139c67a",
   "metadata": {},
   "outputs": [
    {
     "ename": "ValueError",
     "evalue": "substring not found",
     "output_type": "error",
     "traceback": [
      "\u001b[1;31m---------------------------------------------------------------------------\u001b[0m",
      "\u001b[1;31mValueError\u001b[0m                                Traceback (most recent call last)",
      "\u001b[1;32m~\\AppData\\Local\\Temp/ipykernel_9920/3020370247.py\u001b[0m in \u001b[0;36m<module>\u001b[1;34m\u001b[0m\n\u001b[0;32m      1\u001b[0m \u001b[0ms\u001b[0m \u001b[1;33m=\u001b[0m \u001b[1;34m\"4(2(3)(1))(6(5))\"\u001b[0m\u001b[1;33m\u001b[0m\u001b[1;33m\u001b[0m\u001b[0m\n\u001b[1;32m----> 2\u001b[1;33m \u001b[0mroot\u001b[0m \u001b[1;33m=\u001b[0m \u001b[0mconstructTree\u001b[0m\u001b[1;33m(\u001b[0m\u001b[0ms\u001b[0m\u001b[1;33m)\u001b[0m\u001b[1;33m\u001b[0m\u001b[1;33m\u001b[0m\u001b[0m\n\u001b[0m",
      "\u001b[1;32m~\\AppData\\Local\\Temp/ipykernel_9920/662358189.py\u001b[0m in \u001b[0;36mconstructTree\u001b[1;34m(s)\u001b[0m\n\u001b[0;32m     16\u001b[0m \u001b[1;33m\u001b[0m\u001b[0m\n\u001b[0;32m     17\u001b[0m     \u001b[0mclosing\u001b[0m \u001b[1;33m=\u001b[0m \u001b[0mfindClosingParenthesis\u001b[0m\u001b[1;33m(\u001b[0m\u001b[0ms\u001b[0m\u001b[1;33m,\u001b[0m \u001b[0mopening\u001b[0m\u001b[1;33m)\u001b[0m\u001b[1;33m\u001b[0m\u001b[1;33m\u001b[0m\u001b[0m\n\u001b[1;32m---> 18\u001b[1;33m     \u001b[0mroot\u001b[0m\u001b[1;33m.\u001b[0m\u001b[0mleft\u001b[0m \u001b[1;33m=\u001b[0m \u001b[0mconstructTree\u001b[0m\u001b[1;33m(\u001b[0m\u001b[0ms\u001b[0m\u001b[1;33m[\u001b[0m\u001b[0mopening\u001b[0m \u001b[1;33m+\u001b[0m \u001b[1;36m1\u001b[0m\u001b[1;33m:\u001b[0m\u001b[0mclosing\u001b[0m\u001b[1;33m]\u001b[0m\u001b[1;33m)\u001b[0m\u001b[1;33m\u001b[0m\u001b[1;33m\u001b[0m\u001b[0m\n\u001b[0m\u001b[0;32m     19\u001b[0m \u001b[1;33m\u001b[0m\u001b[0m\n\u001b[0;32m     20\u001b[0m     \u001b[1;32mif\u001b[0m \u001b[0mclosing\u001b[0m \u001b[1;33m+\u001b[0m \u001b[1;36m1\u001b[0m \u001b[1;33m<\u001b[0m \u001b[0mlen\u001b[0m\u001b[1;33m(\u001b[0m\u001b[0ms\u001b[0m\u001b[1;33m)\u001b[0m\u001b[1;33m:\u001b[0m\u001b[1;33m\u001b[0m\u001b[1;33m\u001b[0m\u001b[0m\n",
      "\u001b[1;32m~\\AppData\\Local\\Temp/ipykernel_9920/662358189.py\u001b[0m in \u001b[0;36mconstructTree\u001b[1;34m(s)\u001b[0m\n\u001b[0;32m     16\u001b[0m \u001b[1;33m\u001b[0m\u001b[0m\n\u001b[0;32m     17\u001b[0m     \u001b[0mclosing\u001b[0m \u001b[1;33m=\u001b[0m \u001b[0mfindClosingParenthesis\u001b[0m\u001b[1;33m(\u001b[0m\u001b[0ms\u001b[0m\u001b[1;33m,\u001b[0m \u001b[0mopening\u001b[0m\u001b[1;33m)\u001b[0m\u001b[1;33m\u001b[0m\u001b[1;33m\u001b[0m\u001b[0m\n\u001b[1;32m---> 18\u001b[1;33m     \u001b[0mroot\u001b[0m\u001b[1;33m.\u001b[0m\u001b[0mleft\u001b[0m \u001b[1;33m=\u001b[0m \u001b[0mconstructTree\u001b[0m\u001b[1;33m(\u001b[0m\u001b[0ms\u001b[0m\u001b[1;33m[\u001b[0m\u001b[0mopening\u001b[0m \u001b[1;33m+\u001b[0m \u001b[1;36m1\u001b[0m\u001b[1;33m:\u001b[0m\u001b[0mclosing\u001b[0m\u001b[1;33m]\u001b[0m\u001b[1;33m)\u001b[0m\u001b[1;33m\u001b[0m\u001b[1;33m\u001b[0m\u001b[0m\n\u001b[0m\u001b[0;32m     19\u001b[0m \u001b[1;33m\u001b[0m\u001b[0m\n\u001b[0;32m     20\u001b[0m     \u001b[1;32mif\u001b[0m \u001b[0mclosing\u001b[0m \u001b[1;33m+\u001b[0m \u001b[1;36m1\u001b[0m \u001b[1;33m<\u001b[0m \u001b[0mlen\u001b[0m\u001b[1;33m(\u001b[0m\u001b[0ms\u001b[0m\u001b[1;33m)\u001b[0m\u001b[1;33m:\u001b[0m\u001b[1;33m\u001b[0m\u001b[1;33m\u001b[0m\u001b[0m\n",
      "\u001b[1;32m~\\AppData\\Local\\Temp/ipykernel_9920/662358189.py\u001b[0m in \u001b[0;36mconstructTree\u001b[1;34m(s)\u001b[0m\n\u001b[0;32m     10\u001b[0m         \u001b[1;32mreturn\u001b[0m \u001b[1;32mNone\u001b[0m\u001b[1;33m\u001b[0m\u001b[1;33m\u001b[0m\u001b[0m\n\u001b[0;32m     11\u001b[0m \u001b[1;33m\u001b[0m\u001b[0m\n\u001b[1;32m---> 12\u001b[1;33m     \u001b[0mopening\u001b[0m \u001b[1;33m=\u001b[0m \u001b[0ms\u001b[0m\u001b[1;33m.\u001b[0m\u001b[0mindex\u001b[0m\u001b[1;33m(\u001b[0m\u001b[1;34m'('\u001b[0m\u001b[1;33m)\u001b[0m\u001b[1;33m\u001b[0m\u001b[1;33m\u001b[0m\u001b[0m\n\u001b[0m\u001b[0;32m     13\u001b[0m     \u001b[0mvalue\u001b[0m \u001b[1;33m=\u001b[0m \u001b[0mint\u001b[0m\u001b[1;33m(\u001b[0m\u001b[0ms\u001b[0m\u001b[1;33m[\u001b[0m\u001b[1;33m:\u001b[0m\u001b[0mopening\u001b[0m\u001b[1;33m]\u001b[0m\u001b[1;33m)\u001b[0m\u001b[1;33m\u001b[0m\u001b[1;33m\u001b[0m\u001b[0m\n\u001b[0;32m     14\u001b[0m \u001b[1;33m\u001b[0m\u001b[0m\n",
      "\u001b[1;31mValueError\u001b[0m: substring not found"
     ]
    }
   ],
   "source": [
    "s = \"4(2(3)(1))(6(5))\"\n",
    "root = constructTree(s)"
   ]
  },
  {
   "cell_type": "markdown",
   "id": "551c9869",
   "metadata": {},
   "source": [
    "**Question 5** Given an array of characters chars, compress it using the following algorithm: Begin with an empty string s. For each group of consecutive repeating characters in chars:\n",
    "If the group's length is 1, append the character to s.\n",
    "Otherwise, append the character followed by the group's length.\n",
    "The compressed string s should not be returned separately, but instead, be stored in the input character array chars. Note that group lengths that are 10 or longer will be split into multiple characters in chars.\n",
    "\n",
    "After you are done modifying the input array, return the new length of the array.\n",
    "\n",
    "You must write an algorithm that uses only constant extra space.\n",
    "\n",
    "Example 1:\n",
    "\n",
    "Input: chars = [\"a\",\"a\",\"b\",\"b\",\"c\",\"c\",\"c\"]\n",
    "\n",
    "Output: Return 6, and the first 6 characters of the input array should be: [\"a\",\"2\",\"b\",\"2\",\"c\",\"3\"]\n",
    "\n",
    "Explanation:\n",
    "\n",
    "The groups are \"aa\", \"bb\", and \"ccc\". This compresses to \"a2b2c3\"."
   ]
  },
  {
   "cell_type": "code",
   "execution_count": 12,
   "id": "ef06bad9",
   "metadata": {},
   "outputs": [],
   "source": [
    "def compress(chars):\n",
    "    read, write = 0, 0\n",
    "    count = 1\n",
    "\n",
    "    for i in range(1, len(chars)):\n",
    "        if chars[i] == chars[read]:\n",
    "            count += 1\n",
    "        else:\n",
    "            chars[write] = chars[read]\n",
    "            write += 1\n",
    "\n",
    "            if count > 1:\n",
    "                for digit in str(count):\n",
    "                    chars[write] = digit\n",
    "                    write += 1\n",
    "\n",
    "            count = 1\n",
    "            read = i\n",
    "\n",
    "    chars[write] = chars[read]\n",
    "    write += 1\n",
    "\n",
    "    if count > 1:\n",
    "        for digit in str(count):\n",
    "            chars[write] = digit\n",
    "            write += 1\n",
    "\n",
    "    return write"
   ]
  },
  {
   "cell_type": "code",
   "execution_count": 13,
   "id": "663064ae",
   "metadata": {},
   "outputs": [
    {
     "name": "stdout",
     "output_type": "stream",
     "text": [
      "6\n",
      "['a', '2', 'b', '2', 'c', '3']\n"
     ]
    }
   ],
   "source": [
    "chars = [\"a\", \"a\", \"b\", \"b\", \"c\", \"c\", \"c\"]\n",
    "result = compress(chars)\n",
    "print(result)  # Output: 6\n",
    "print(chars[:result])  # Output: ['a', '2', 'b', '2', 'c', '3']"
   ]
  },
  {
   "cell_type": "markdown",
   "id": "b620f340",
   "metadata": {},
   "source": [
    "**Question 6** Given two strings s and p, return an array of all the start indices of p's anagrams in s. You may return the answer in any order. An Anagram is a word or phrase formed by rearranging the letters of a different word or phrase, typically using all the original letters exactly once."
   ]
  },
  {
   "cell_type": "markdown",
   "id": "58b8b227",
   "metadata": {},
   "source": [
    "Input: s = \"cbaebabacd\", p = \"abc\"\n",
    "\n",
    "Output: [0,6]\n",
    "\n",
    "Explanation:\n",
    "\n",
    "The substring with start index = 0 is \"cba\", which is an anagram of \"abc\".\n",
    "\n",
    "The substring with start index = 6 is \"bac\", which is an anagram of \"abc\".\n",
    "Example 1:\n",
    "\n",
    "Input: s = \"cbaebabacd\", p = \"abc\"\n",
    "\n",
    "Output: [0,6]\n",
    "\n",
    "Explanation:\n",
    "\n",
    "The substring with start index = 0 is \"cba\", which is an anagram of \"abc\".\n",
    "\n",
    "The substring with start index = 6 is \"bac\", which is an anagram of \"abc\"."
   ]
  },
  {
   "cell_type": "code",
   "execution_count": 18,
   "id": "aba3f547",
   "metadata": {},
   "outputs": [],
   "source": [
    "from collections import Counter\n",
    "\n",
    "def findAnagrams(s, p):\n",
    "    result = []\n",
    "    count_p = Counter(p)\n",
    "    count_s = Counter()\n",
    "\n",
    "    left, right = 0, 0\n",
    "    window_size = len(p)\n",
    "\n",
    "    while right < len(s):\n",
    "        count_s[s[right]] += 1\n",
    "\n",
    "        if right - left + 1 == window_size:\n",
    "            if count_p == count_s:\n",
    "                result.append(left)\n",
    "            \n",
    "            count_s[s[left]] -= 1\n",
    "            if count_s[s[left]] == 0:\n",
    "                del count_s[s[left]]\n",
    "            \n",
    "            left += 1\n",
    "\n",
    "        right += 1\n",
    "\n",
    "    return result"
   ]
  },
  {
   "cell_type": "code",
   "execution_count": 19,
   "id": "aa467c43",
   "metadata": {},
   "outputs": [
    {
     "name": "stdout",
     "output_type": "stream",
     "text": [
      "[0, 6]\n"
     ]
    }
   ],
   "source": [
    "s = \"cbaebabacd\"\n",
    "p = \"abc\"\n",
    "result = findAnagrams(s, p)\n",
    "print(result)  # Output: [0, 6]"
   ]
  },
  {
   "cell_type": "markdown",
   "id": "428f673a",
   "metadata": {},
   "source": [
    "**Question 7** Given an encoded string, return its decoded string. The encoding rule is: k[encoded_string], where the encoded_string inside the square brackets is being repeated exactly k times. Note that k is guaranteed to be a positive integer. You may assume that the input string is always valid; there are no extra white spaces, square brackets are well-formed, etc. Furthermore, you may assume that the original data does not contain any digits and that digits are only for those repeat numbers, k. For example, there will not be input like 3a or 2[4].\n",
    "\n",
    "The test cases are generated so that the length of the output will never exceed 105.\n",
    "\n",
    "Example 1:\n",
    "\n",
    "Input: s = \"3[a]2[bc]\"\n",
    "\n",
    "Output: \"aaabcbc\""
   ]
  },
  {
   "cell_type": "code",
   "execution_count": 20,
   "id": "0b7d5e53",
   "metadata": {},
   "outputs": [],
   "source": [
    "def decodeString(s):\n",
    "    stack = []\n",
    "    curr_num = 0\n",
    "    curr_str = \"\"\n",
    "\n",
    "    for char in s:\n",
    "        if char.isdigit():\n",
    "            curr_num = curr_num * 10 + int(char)\n",
    "        elif char == \"[\":\n",
    "            stack.append((curr_str, curr_num))\n",
    "            curr_str = \"\"\n",
    "            curr_num = 0\n",
    "        elif char == \"]\":\n",
    "            prev_str, prev_num = stack.pop()\n",
    "            curr_str = prev_str + curr_str * prev_num\n",
    "        else:\n",
    "            curr_str += char\n",
    "\n",
    "    return curr_str"
   ]
  },
  {
   "cell_type": "code",
   "execution_count": 21,
   "id": "4b36f75c",
   "metadata": {},
   "outputs": [
    {
     "name": "stdout",
     "output_type": "stream",
     "text": [
      "aaabcbc\n"
     ]
    }
   ],
   "source": [
    "s = \"3[a]2[bc]\"\n",
    "result = decodeString(s)\n",
    "print(result)  # Output: \"aaabcbc\""
   ]
  },
  {
   "cell_type": "code",
   "execution_count": null,
   "id": "2716f355",
   "metadata": {},
   "outputs": [],
   "source": []
  }
 ],
 "metadata": {
  "kernelspec": {
   "display_name": "Python 3 (ipykernel)",
   "language": "python",
   "name": "python3"
  },
  "language_info": {
   "codemirror_mode": {
    "name": "ipython",
    "version": 3
   },
   "file_extension": ".py",
   "mimetype": "text/x-python",
   "name": "python",
   "nbconvert_exporter": "python",
   "pygments_lexer": "ipython3",
   "version": "3.9.7"
  }
 },
 "nbformat": 4,
 "nbformat_minor": 5
}
