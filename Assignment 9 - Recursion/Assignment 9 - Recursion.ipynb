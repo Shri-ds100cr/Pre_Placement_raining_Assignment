{
 "cells": [
  {
   "cell_type": "markdown",
   "id": "8661e4fd",
   "metadata": {},
   "source": [
    "Question 1 Given an integer n, return true if it is a power of two. Otherwise, return false. An integer n is a power of two, if there exists an integer x such that n == 2x.\n",
    "Example 1: Input: n = 1\n",
    "\n",
    "Output: true\n",
    "\n",
    "Example 2: Input: n = 16\n",
    "\n",
    "Output: true\n",
    "\n",
    "Example 3: Input: n = 3\n",
    "\n",
    "Output: false"
   ]
  },
  {
   "cell_type": "code",
   "execution_count": 4,
   "id": "3a96a07d",
   "metadata": {},
   "outputs": [],
   "source": [
    "def isPowerOfTwo(n):\n",
    "    if n<=0:\n",
    "        return false\n",
    "    return (n&(n-1))==0\n",
    "    "
   ]
  },
  {
   "cell_type": "code",
   "execution_count": 5,
   "id": "0dac2f2d",
   "metadata": {},
   "outputs": [
    {
     "name": "stdout",
     "output_type": "stream",
     "text": [
      "True\n",
      "True\n",
      "False\n"
     ]
    }
   ],
   "source": [
    "print(isPowerOfTwo(1))\n",
    "print(isPowerOfTwo(16))\n",
    "print(isPowerOfTwo(3))"
   ]
  },
  {
   "cell_type": "markdown",
   "id": "8c107eeb",
   "metadata": {},
   "source": [
    "Question 2 Given a number n, find the sum of the first natural numbers.\n",
    "Example 1:\n",
    "\n",
    "Input: n = 3\n",
    "\n",
    "Output: 6\n",
    "\n",
    "Example 2:\n",
    "\n",
    "Input : 5\n",
    "\n",
    "Output : 15"
   ]
  },
  {
   "cell_type": "code",
   "execution_count": 6,
   "id": "46d2aab3",
   "metadata": {},
   "outputs": [],
   "source": [
    "def sumOfNaturalNumber(n):\n",
    "    return(n*(n+1))//2\n"
   ]
  },
  {
   "cell_type": "code",
   "execution_count": 7,
   "id": "64f2882e",
   "metadata": {},
   "outputs": [
    {
     "name": "stdout",
     "output_type": "stream",
     "text": [
      "6\n",
      "15\n"
     ]
    }
   ],
   "source": [
    "print(sumOfNaturalNumber(3))\n",
    "print(sumOfNaturalNumber(5))"
   ]
  },
  {
   "cell_type": "markdown",
   "id": "3bbec2f6",
   "metadata": {},
   "source": [
    "Question 3 Given a positive integer, N. Find the factorial of N.\n",
    "Example 1:\n",
    "\n",
    "Input: N = 5\n",
    "\n",
    "Output: 120\n",
    "\n",
    "Example 2:\n",
    "\n",
    "Input: N = 4\n",
    "\n",
    "Output: 24"
   ]
  },
  {
   "cell_type": "code",
   "execution_count": 8,
   "id": "c22a7aa5",
   "metadata": {},
   "outputs": [
    {
     "name": "stdout",
     "output_type": "stream",
     "text": [
      "120\n",
      "24\n"
     ]
    }
   ],
   "source": [
    "def factorial(N):\n",
    "    factorial = 1\n",
    "    for i in range(1, N + 1):\n",
    "        factorial *= i\n",
    "    return factorial\n",
    "print(factorial(5))  # Output: 120\n",
    "print(factorial(4))  # Output: 24"
   ]
  },
  {
   "cell_type": "markdown",
   "id": "f9bf3fc1",
   "metadata": {},
   "source": [
    "Question 4 Given a number N and a power P, the task is to find the exponent of this number raised to the given power, i.e. N^P.\n",
    "Example 1 :\n",
    "\n",
    "Input: N = 5, P = 2\n",
    "\n",
    "Output: 25\n",
    "\n",
    "Example 2 : Input: N = 2, P = 5\n",
    "\n",
    "Output: 32"
   ]
  },
  {
   "cell_type": "code",
   "execution_count": 11,
   "id": "0975d902",
   "metadata": {},
   "outputs": [
    {
     "name": "stdout",
     "output_type": "stream",
     "text": [
      "25\n",
      "32\n"
     ]
    }
   ],
   "source": [
    "def calculateExponent(N, P):\n",
    "    return N ** P\n",
    "print(calculateExponent(5, 2))  # Output: 25\n",
    "print(calculateExponent(2, 5))  # Output: 32"
   ]
  },
  {
   "cell_type": "markdown",
   "id": "a2c58411",
   "metadata": {},
   "source": [
    "Question 5 Given an array of integers arr, the task is to find maximum element of that array using recursion.\n",
    "Example 1:\n",
    "\n",
    "Input: arr = {1, 4, 3, -5, -4, 8, 6}; Output: 8\n",
    "\n",
    "Example 2:\n",
    "\n",
    "Input: arr = {1, 4, 45, 6, 10, -8}; Output: 45"
   ]
  },
  {
   "cell_type": "code",
   "execution_count": 12,
   "id": "217ef6ce",
   "metadata": {},
   "outputs": [],
   "source": [
    "def findMax(arr):\n",
    "    # Base case: If array contains only one element, return that element\n",
    "    if len(arr) == 1:\n",
    "        return arr[0]\n",
    "\n",
    "    # Split the array into two halves\n",
    "    mid = len(arr) // 2\n",
    "    left = arr[:mid]\n",
    "    right = arr[mid:]\n",
    "\n",
    "    # Recursively find the maximum elements of the left and right halves\n",
    "    max_left = findMax(left)\n",
    "    max_right = findMax(right)\n",
    "\n",
    "    # Compare the maximum elements of the left and right halves and return the larger one\n",
    "    return max(max_left, max_right)"
   ]
  },
  {
   "cell_type": "code",
   "execution_count": 13,
   "id": "eb3622ce",
   "metadata": {},
   "outputs": [
    {
     "name": "stdout",
     "output_type": "stream",
     "text": [
      "8\n",
      "45\n"
     ]
    }
   ],
   "source": [
    "arr1 = [1, 4, 3, -5, -4, 8, 6]\n",
    "print(findMax(arr1))  # Output: 8\n",
    "\n",
    "arr2 = [1, 4, 45, 6, 10, -8]\n",
    "print(findMax(arr2))  # Output: 45"
   ]
  },
  {
   "cell_type": "markdown",
   "id": "807afcd3",
   "metadata": {},
   "source": [
    "Question 6 Given first term (a), common difference (d) and a integer N of the Arithmetic Progression series, the task is to find Nth term of the series.\n",
    "Example 1:\n",
    "\n",
    "Input : a = 2 d = 1 N = 5 Output : 6 The 5th term of the series is : 6\n",
    "\n",
    "Example 2:\n",
    "\n",
    "Input : a = 5 d = 2 N = 10 Output : 23 The 10th term of the series is : 23"
   ]
  },
  {
   "cell_type": "code",
   "execution_count": 14,
   "id": "84d7ddec",
   "metadata": {},
   "outputs": [
    {
     "name": "stdout",
     "output_type": "stream",
     "text": [
      "6\n",
      "23\n"
     ]
    }
   ],
   "source": [
    "def findNthTerm(a, d, N):\n",
    "    return a + (N - 1) * d\n",
    "print(findNthTerm(2, 1, 5))  # Output: 6\n",
    "print(findNthTerm(5, 2, 10))  # Output: 23"
   ]
  },
  {
   "cell_type": "markdown",
   "id": "6fefeef4",
   "metadata": {},
   "source": [
    "Question 7Given a string S, the task is to write a program to print all permutations of a given string.\n",
    "Example 1:\n",
    "\n",
    "*Input:*\n",
    "\n",
    "S = “ABC”\n",
    "\n",
    "*Output:*\n",
    "\n",
    "“ABC”, “ACB”, “BAC”, “BCA”, “CBA”, “CAB”\n",
    "\n",
    "Example 2:\n",
    "\n",
    "*Input:*\n",
    "\n",
    "S = “XY”\n",
    "\n",
    "*Output:*\n",
    "\n",
    "“XY”, “YX”"
   ]
  },
  {
   "cell_type": "code",
   "execution_count": null,
   "id": "ecc509f6",
   "metadata": {},
   "outputs": [],
   "source": []
  }
 ],
 "metadata": {
  "kernelspec": {
   "display_name": "Python 3 (ipykernel)",
   "language": "python",
   "name": "python3"
  },
  "language_info": {
   "codemirror_mode": {
    "name": "ipython",
    "version": 3
   },
   "file_extension": ".py",
   "mimetype": "text/x-python",
   "name": "python",
   "nbconvert_exporter": "python",
   "pygments_lexer": "ipython3",
   "version": "3.9.7"
  }
 },
 "nbformat": 4,
 "nbformat_minor": 5
}
